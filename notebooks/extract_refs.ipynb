{
 "cells": [
  {
   "cell_type": "code",
   "execution_count": null,
   "metadata": {},
   "outputs": [],
   "source": [
    "import refextract as re"
   ]
  },
  {
   "cell_type": "code",
   "execution_count": null,
   "metadata": {},
   "outputs": [],
   "source": [
    "refs = re.extract_references_from_file('data/diener2009.pdf')"
   ]
  },
  {
   "cell_type": "code",
   "execution_count": null,
   "metadata": {},
   "outputs": [],
   "source": [
    "refs[2]"
   ]
  },
  {
   "cell_type": "code",
   "execution_count": null,
   "metadata": {},
   "outputs": [],
   "source": [
    "re.extract_references_from_url('https://journals.sagepub.com/doi/pdf/10.1177/008124630903900402')"
   ]
  },
  {
   "cell_type": "code",
   "execution_count": null,
   "metadata": {},
   "outputs": [],
   "source": [
    "import pdfx"
   ]
  },
  {
   "cell_type": "code",
   "execution_count": null,
   "metadata": {},
   "outputs": [],
   "source": [
    "# pdfx.PDFx('./data/diener2009.pdf')\n",
    "pdf = pdfx.PDFx('./data/sustainability-11-04374.pdf')"
   ]
  },
  {
   "cell_type": "code",
   "execution_count": null,
   "metadata": {},
   "outputs": [],
   "source": [
    "pdf.get_references_count()"
   ]
  },
  {
   "cell_type": "code",
   "execution_count": null,
   "metadata": {},
   "outputs": [],
   "source": [
    "refs = pdf.get_references_as_dict()\n",
    "refs['pdf']"
   ]
  },
  {
   "cell_type": "markdown",
   "metadata": {},
   "source": [
    "# lisc"
   ]
  },
  {
   "cell_type": "code",
   "execution_count": null,
   "metadata": {},
   "outputs": [],
   "source": [
    "from lisc.collect import collect_citations"
   ]
  },
  {
   "cell_type": "code",
   "execution_count": null,
   "metadata": {},
   "outputs": [],
   "source": [
    "dois = ['10.1016/S0305-750X(01)00109-7']\n",
    "citations, metadata = collect_citations(dois, util='citations')\n",
    "references, metadata = collect_citations(dois, util='references')"
   ]
  },
  {
   "cell_type": "code",
   "execution_count": null,
   "metadata": {},
   "outputs": [],
   "source": [
    "citations\n",
    "references"
   ]
  },
  {
   "cell_type": "code",
   "execution_count": null,
   "metadata": {},
   "outputs": [],
   "source": [
    "import json\n",
    "from lisc.requester import Requester\n",
    "from lisc.urls.open_citations import OpenCitations\n",
    "\n",
    "urls = OpenCitations()\n",
    "urls.build_url('citations')\n",
    "\n",
    "cit_url = urls.get_url('citations', dois)\n",
    "print(cit_url)\n",
    "\n",
    "req = Requester(wait_time=0.1, logging=None)\n",
    "json.loads(req.request_url(cit_url).content.decode('utf-8'))"
   ]
  },
  {
   "cell_type": "code",
   "execution_count": null,
   "metadata": {},
   "outputs": [],
   "source": [
    "from lisc.requester import Requester\n",
    "from lisc.urls.open_citations import OpenCitations\n",
    "\n",
    "util = 'references' #'citations'\n",
    "settings={'format': 'json'}\n",
    "dois = ['10.5502/ijw.v2i3.3']\n",
    "\n",
    "urls = OpenCitations()\n",
    "urls.build_url(util=util)\n",
    "\n",
    "url = urls.get_url(util=util, segments=dois, settings=settings)\n",
    "# urls.authenticate(url)\n",
    "# urls.fill_settings(format='json')\n",
    "# urls.check_url(util)\n",
    "\n",
    "req = Requester(wait_time=0.1, logging=None)\n",
    "# req.check()\n",
    "r = req.request_url(url)\n",
    "req.close()\n",
    "\n",
    "r.json()"
   ]
  },
  {
   "cell_type": "markdown",
   "metadata": {},
   "source": [
    "## zotero database\n",
    "relations in table `relationPredicates`\n",
    "- `itemID = items.itemID`\n",
    "- `predicateID = 2`\n",
    "- `object = 'http://zotero.org/users/5832834/items/' || related_items.key`\n",
    "for both items!\n",
    "\n",
    "    ```INSERT INTO relationPredicates (itemID, predicateID, object)\n",
    "    SELECT i.itemID, ...\n",
    "    FROM items i\n",
    "    WHERE i.itemID NOT IN (SELECT itemID FROM relationPredicates)```\n",
    "\n",
    "\n",
    "\n",
    "parse doi:\n",
    "```\n",
    "SELECT\n",
    "    itemID,\n",
    "    value\n",
    "FROM itemData id\n",
    "LEFT JOIN itemDataValues idv\n",
    "WHERE id.fieldID = 1 -- value=URL\n",
    "                 = 26 -- value=DOI\n",
    "                 = 22 -- value=Extra (DOI: or DOI: info.doi/ or tex.isbn: or tex.arxivid:)```"
   ]
  },
  {
   "cell_type": "code",
   "execution_count": null,
   "metadata": {},
   "outputs": [],
   "source": [
    "import sqlite3\n",
    "\n",
    "conn = sqlite3.connect('/home/boris/Zotero/zotero.sqlite')\n",
    "c = conn.cursor()\n",
    "c.execute(\"\"\"SELECT\n",
    "                ir.*,\n",
    "                i.key,\n",
    "                rp.predicate\n",
    "            FROM itemRelations ir\n",
    "            LEFT JOIN items i ON ir.itemID = i.itemID\n",
    "            LEFT JOIN relationPredicates rp ON ir.predicateID = rp.predicateID\n",
    "            WHERE ir.predicateID = 2\"\"\")\n",
    "res = c.fetchall()\n",
    "\n",
    "conn.close()\n",
    "\n",
    "res"
   ]
  },
  {
   "cell_type": "code",
   "execution_count": null,
   "metadata": {},
   "outputs": [],
   "source": []
  }
 ],
 "metadata": {
  "kernelspec": {
   "display_name": "Python 3",
   "language": "python",
   "name": "python3"
  },
  "language_info": {
   "codemirror_mode": {
    "name": "ipython",
    "version": 3
   },
   "file_extension": ".py",
   "mimetype": "text/x-python",
   "name": "python",
   "nbconvert_exporter": "python",
   "pygments_lexer": "ipython3",
   "version": "3.8.2"
  }
 },
 "nbformat": 4,
 "nbformat_minor": 4
}
