{
 "cells": [
  {
   "cell_type": "code",
   "execution_count": null,
   "metadata": {},
   "outputs": [],
   "source": [
    "%load_ext autoreload"
   ]
  },
  {
   "cell_type": "code",
   "execution_count": null,
   "metadata": {},
   "outputs": [],
   "source": [
    "%autoreload 2\n",
    "from pyzotero.zotero import Zotero\n",
    "import os\n",
    "from sqlite3 import connect\n",
    "\n",
    "import os\n",
    "import sys\n",
    "module_path = os.path.abspath(os.path.join('..'))\n",
    "if module_path not in sys.path:\n",
    "    sys.path.append(module_path)\n",
    "\n",
    "from src.dispatcher import Dispatcher\n",
    "from src.db import ZoteroDatabase\n",
    "from src.scihub import SciHub"
   ]
  },
  {
   "cell_type": "code",
   "execution_count": null,
   "metadata": {},
   "outputs": [],
   "source": [
    "zot = Zotero(os.environ['ZOTERO_USER_ID'], 'user', os.environ['ZOTERO_API_KEY'], preserve_json_order=True)\n",
    "\n",
    "z = ZoteroDatabase(local=True)\n",
    "# d = Dispatcher(session=None)"
   ]
  },
  {
   "cell_type": "code",
   "execution_count": null,
   "metadata": {},
   "outputs": [],
   "source": [
    "keys = ['XXLF2GYS', 'G3GP7TW8','UYJJPTXG','4SDR5E5R','JTWSQKIS','AG9I49JZ', '7ARSI4KK']\n",
    "item_type = 'note || attachment'\n",
    "\n",
    "# items = z.get_items(keys=keys, use_cache=False)\n",
    "# items = z.get_notes(keys=keys)\n",
    "items = z.get_attachments(keys=keys)\n",
    "items[0]"
   ]
  },
  {
   "cell_type": "code",
   "execution_count": null,
   "metadata": {},
   "outputs": [],
   "source": [
    "items = z.get_items(item_type='-note || attachment')\n",
    "items"
   ]
  },
  {
   "cell_type": "code",
   "execution_count": null,
   "metadata": {},
   "outputs": [],
   "source": [
    "z.get_autocomplete_tags()"
   ]
  },
  {
   "cell_type": "code",
   "execution_count": null,
   "metadata": {},
   "outputs": [],
   "source": [
    "[d.papers.get(k,'none') for k in d.tags['none']]"
   ]
  },
  {
   "cell_type": "code",
   "execution_count": null,
   "metadata": {},
   "outputs": [],
   "source": [
    "d.tags['none']"
   ]
  },
  {
   "cell_type": "code",
   "execution_count": null,
   "metadata": {},
   "outputs": [],
   "source": [
    "from collections import defaultdict\n",
    "tags_dict = defaultdict(list)\n",
    "for i in items:\n",
    "    for t in i.get('tags', [None]):\n",
    "        if t is None:\n",
    "            tags_dict['none'].append(i['key'])\n",
    "        else: \n",
    "            tags_dict[t['tag']].append(i['key'])\n",
    "dict(tags_dict)\n"
   ]
  },
  {
   "cell_type": "code",
   "execution_count": null,
   "metadata": {},
   "outputs": [],
   "source": [
    "t = {}\n",
    "t.setdefault('a',[])\n",
    "t"
   ]
  },
  {
   "cell_type": "code",
   "execution_count": null,
   "metadata": {},
   "outputs": [],
   "source": [
    "{t.get('tag') for i in items for t in i.get('tags', {}) if t['type'] == 0}\n",
    "\n",
    "{t.setdefault(t['tag'],list)[t['tag']].append(i['key']) for i in items for t in i.get('tags', {})}"
   ]
  },
  {
   "cell_type": "code",
   "execution_count": null,
   "metadata": {},
   "outputs": [],
   "source": []
  },
  {
   "cell_type": "code",
   "execution_count": null,
   "metadata": {},
   "outputs": [],
   "source": [
    "z.get_autocompletes()"
   ]
  },
  {
   "cell_type": "code",
   "execution_count": null,
   "metadata": {},
   "outputs": [],
   "source": [
    "z.get_autocomplete_tags()"
   ]
  },
  {
   "cell_type": "code",
   "execution_count": null,
   "metadata": {},
   "outputs": [],
   "source": [
    "items = z.get_items()\n",
    "items\n",
    "dois = {i['DOI'].lower(): i['key'] for i in items if 'DOI' in i}"
   ]
  },
  {
   "cell_type": "code",
   "execution_count": null,
   "metadata": {},
   "outputs": [],
   "source": [
    "file_types = ['pdf', 'epub', 'djvu', 'mobi', 'okular'] # alsp PDF!\n",
    "# present_file_type = {a.get('path','').split('.')[-1] for a in attachments}\n",
    "\n",
    "d = Dispatcher(session=None)\n",
    "items = z.get_items(keys=[])\n",
    "\n",
    "\n",
    "def check_filenames(items):\n",
    "    keys = [i['key'] for i in items]\n",
    "    attachments = z.get_attachments(parent_keys=keys)\n",
    "    attachments_dict = {i['key']: [(a['path'], 'attachments:' + d.build_file_name(i)) for a in attachments\n",
    "                                   if a.get('parentItem') == i['key']\n",
    "                                   and 'path' in a \n",
    "                                   and a['path'] != 'attachments:' + d.build_file_name(i)]\n",
    "                        for i in items}\n",
    "    return attachments_dict\n",
    "\n",
    "\n",
    "check_filenames(items)"
   ]
  },
  {
   "cell_type": "code",
   "execution_count": null,
   "metadata": {},
   "outputs": [],
   "source": [
    "file_types = ['pdf', 'epub', 'djvu', 'mobi', 'okular'] # also PDF!\n",
    "\n",
    "selected_keys = ['XXLF2GYS', 'G3GP7TW8','UYJJPTXG','4SDR5E5R','JTWSQKIS','AG9I49JZ', '7ARSI4KK']\n",
    "\n",
    "\n",
    "import re\n",
    "\n",
    "def get_doi(item):\n",
    "    \n",
    "    def get_match(s, regex):\n",
    "        r = re.compile(regex, re.IGNORECASE)\n",
    "        match = r.search(s)\n",
    "        if match:\n",
    "            return match.group()\n",
    "        \n",
    "    r = r'10.\\d{4,9}\\/[-._;()/:A-Z0-9]+'\n",
    "    return item.get('DOI') or get_match(item.get('url', ''), r) or get_match(item.get('extra', ''), r)\n",
    "    \n",
    "\n",
    "\n",
    "items = z.get_items(keys=selected_keys)\n",
    "attachments = z.get_attachments(parent_keys=selected_keys)\n",
    "\n",
    "# attachments_dict = {i['key']: [a['path'] for a in attachments\n",
    "#                                if 'path' in a and a.get('parentItem') == i['key']\n",
    "#                                and (a.get('path', '').split('.')[-1]).lower() in file_types] for i in items}\n",
    "# attachments_dict\n",
    "\n",
    "attachment_keys = [a['parentItem'] for a in attachments\n",
    "                   if 'parentItem' in a and (a.get('path', '').split('.')[-1]).lower() in file_types]\n",
    "\n",
    "no_attachments_dict = {i['key']: {'url': i.get('url'), 'DOI': get_doi(i), 'ISBN': i.get('ISBN')} for i in items if i['key'] not in attachment_keys}\n",
    "\n",
    "no_attachments_dict"
   ]
  },
  {
   "cell_type": "markdown",
   "metadata": {},
   "source": [
    "# misc"
   ]
  },
  {
   "cell_type": "code",
   "execution_count": null,
   "metadata": {},
   "outputs": [],
   "source": [
    "z.item_types()\n",
    "z.item_type_fields('note')\n",
    "z.item_attachment_link_modes()\n",
    "# z.item_template('journalArticle')\n",
    "z.item_template('attachment', 'linked_file')"
   ]
  },
  {
   "cell_type": "markdown",
   "metadata": {},
   "source": [
    "# scihub"
   ]
  },
  {
   "cell_type": "code",
   "execution_count": null,
   "metadata": {},
   "outputs": [],
   "source": [
    "import unicodedata"
   ]
  },
  {
   "cell_type": "code",
   "execution_count": null,
   "metadata": {},
   "outputs": [],
   "source": [
    "text = 'dalsdk-.;asjdn'\n",
    "text = unicodedata.normalize('NFD', text).encode('ascii', 'ignore').decode('utf-8')\n",
    "text"
   ]
  },
  {
   "cell_type": "code",
   "execution_count": null,
   "metadata": {},
   "outputs": [],
   "source": [
    "identifier = '10.1016/j.ssmph.2019.10038'\n",
    "\n",
    "sh = SciHub(use_fallback=False)\n",
    "# sh.available_base_url_list\n",
    "# result = sh.fetch('http://ieeexplore.ieee.org/xpl/login.jsp?tp=&arnumber=1648853')\n",
    "result = sh.download(identifier, path='/home/boris/Downloads/paper.pdf')\n",
    "# sh._get_available_scihub_urls()\n",
    "result"
   ]
  },
  {
   "cell_type": "code",
   "execution_count": null,
   "metadata": {},
   "outputs": [],
   "source": [
    "result"
   ]
  },
  {
   "cell_type": "code",
   "execution_count": null,
   "metadata": {},
   "outputs": [],
   "source": [
    "result.keys()"
   ]
  },
  {
   "cell_type": "code",
   "execution_count": null,
   "metadata": {},
   "outputs": [],
   "source": [
    "z = Zotero(os.environ['ZOTERO_USER_ID'], 'user', os.environ['ZOTERO_API_KEY'], preserve_json_order=True)"
   ]
  },
  {
   "cell_type": "code",
   "execution_count": null,
   "metadata": {},
   "outputs": [],
   "source": [
    "file_name = 'test_paper.pdf'\n",
    "\n",
    "att = z.item_template('attachment', 'linked_file')\n",
    "att['title'] = file_name\n",
    "att['path'] = 'attachments:' + file_name\n",
    "\n",
    "z.check_items([att])"
   ]
  },
  {
   "cell_type": "code",
   "execution_count": null,
   "metadata": {},
   "outputs": [],
   "source": [
    "response = z.create_items([att], parentid='AG9I49JZ')\n",
    "response"
   ]
  },
  {
   "cell_type": "code",
   "execution_count": null,
   "metadata": {},
   "outputs": [],
   "source": [
    "response['success']['0']"
   ]
  },
  {
   "cell_type": "markdown",
   "metadata": {},
   "source": [
    "# lisc - retrieve DOI relations"
   ]
  },
  {
   "cell_type": "code",
   "execution_count": null,
   "metadata": {},
   "outputs": [],
   "source": [
    "z = Zotero(os.environ['ZOTERO_USER_ID'], 'user', os.environ['ZOTERO_API_KEY'], preserve_json_order=True)\n",
    "item = z.item('2BCDWE4F')['data']\n",
    "# item2 = z.item('7ARSI4KK')\n",
    "item['relations'] = {'dc:relation': ['http://zotero.org/users/5832834/items/TZNEQBL3',\n",
    "                                     'http://zotero.org/users/5832834/items/KQNSY94T',\n",
    "                                     'http://zotero.org/users/5832834/items/PIM5RGMN',\n",
    "                                     'http://zotero.org/users/5832834/items/WDYQMILT']\n",
    "}\n",
    "\n",
    "# items = [{'key': 'AG9I49JZ',\n",
    "#           'note': None,\n",
    "#           'path': None,\n",
    "#           'itemType': 'book',\n",
    "#         'relations': {'dc:relation': ['http://zotero.org/users/5832834/items/7ARSI4KK']}}]\n",
    "items = [item]\n",
    "\n",
    "z.check_items(items)\n",
    "# z.update_items(items)"
   ]
  },
  {
   "cell_type": "code",
   "execution_count": null,
   "metadata": {},
   "outputs": [],
   "source": [
    "items = z.get_items(use_cache=True)\n",
    "[i['data'] for i in items if i['key'] == '2MZ5V5PJ']"
   ]
  },
  {
   "cell_type": "code",
   "execution_count": null,
   "metadata": {},
   "outputs": [],
   "source": [
    "items = [{'key': 'XXLF2GYS', 'itemType': 'journalArticle', 'title': 'Living well: a self-determination theory perspective on eudaimonia', 'url': 'https://doi.org/10.1007/s10902-006-9023-4', 'volume': '9', 'issue': '1', 'pages': '139-170', 'publicationTitle': 'Journal of Happiness Studies', 'ISSN': '1573-7780', 'date': '2008-01-01 2008-01-01', 'DOI': '10.1007/s10902-006-9023-4', 'accessDate': '2020-03-26 09:50:27', 'libraryCatalog': 'Springer Link', 'language': 'en', 'abstractNote': 'This article distinguishes between hedonic and eudaimonic approaches to wellness, with the former focusing on the outcome of happiness or pleasure and the latter focusing not so much on outcomes as on the process of living well. We present a model of eudaimonia that is based in self-determination theory, arguing that eudaimonic living can be characterized in terms of four motivational concepts: (1) pursuing intrinsic goals and values for their own sake, including personal growth, relationships, community, and health, rather than extrinsic goals and values, such as wealth, fame, image, and power; (2) behaving in autonomous, volitional, or consensual ways, rather than heteronomous or controlled ways; (3) being mindful and acting with a sense of awareness; and (4) behaving in ways that satisfy basic psychological needs for competence, relatedness, and autonomy. In fact, we theorize that the first three of these aspects of eudaimonic living have their positive effects of psychological and physical wellness because they facilitate satisfaction of these basic, universal psychological needs. Studies indicate that people high in eudaimonic living tend to behave in more prosocial ways, thus benefiting the collective as well as themselves, and that conditions both within the family and in society more generally contribute toward strengthening versus diminishing the degree to which people live eudaimonic lives.', 'shortTitle': 'Living well', 'journalAbbreviation': 'J Happiness Stud', 'dateAdded': '2020-03-26 09:50:27', 'dateModified': '2020-03-30 13:34:12', 'creators': [{'creatorType': 'author', 'firstName': 'Edward L.', 'lastName': 'Deci'}, {'creatorType': 'author', 'firstName': 'Richard M.', 'lastName': 'Ryan'}, {'creatorType': 'author', 'firstName': 'Veronika', 'lastName': 'Huta'}], 'tags': [{'tag': '# important'}, {'tag': '# read'}, {'tag': 'Well-being'}], 'collections': ['8LDK2WDV', 'TV839KDL'], 'relations': {'dc:relation': ['http://zotero.org/users/5832834/items/SDY9BMYE', 'http://zotero.org/users/5832834/items/LBPTVGZK', 'http://zotero.org/users/5832834/items/YZNSQQ9B', 'http://zotero.org/users/5832834/items/543MZJ8Z', 'http://zotero.org/users/5832834/items/9YQM53CA', 'http://zotero.org/users/5832834/items/AXWHXS9F', 'http://zotero.org/users/5832834/items/ZLD8PZ4X', 'http://zotero.org/users/5832834/items/XMKMG8D8', 'http://zotero.org/users/5832834/items/RX9HYJ5Z']}}]\n",
    "# for k,v in items[0].items():\n",
    "#     if v == '':\n",
    "#         del items[0][k]\n",
    "# del items[0]['abstractNote']\n",
    "# del items[0]['dateModified']\n",
    "# del items[0]['dateAdded']\n",
    "items[0]['version'] = 1996\n",
    "\n",
    "z.check_items(items)\n",
    "z.update_items(items)"
   ]
  },
  {
   "cell_type": "code",
   "execution_count": null,
   "metadata": {},
   "outputs": [],
   "source": [
    "from lisc.requester import Requester\n",
    "from lisc.urls.open_citations import OpenCitations\n",
    "\n",
    "util = 'references' # citations, references\n",
    "settings = {'format': 'json'}\n",
    "dois = ['10.1016/S0305-750X(01)00109-7']\n",
    "\n",
    "urls = OpenCitations()\n",
    "urls.build_url(util=util)\n",
    "\n",
    "url = urls.get_url(util=util, segments=dois, settings=settings)\n",
    "print(url)\n",
    "# urls.authenticate(url)\n",
    "# urls.fill_settings(format='json')\n",
    "# urls.check_url(util)\n",
    "\n",
    "req = Requester(wait_time=0.1, logging=None)\n",
    "# req.check()\n",
    "r = req.request_url(url)\n",
    "req.close()\n",
    "r.json()"
   ]
  },
  {
   "cell_type": "markdown",
   "metadata": {},
   "source": [
    "# asyncio"
   ]
  },
  {
   "cell_type": "code",
   "execution_count": null,
   "metadata": {},
   "outputs": [],
   "source": [
    "d.get_relations_by_doi('10.1016/S0305-750X(01)00109-7')"
   ]
  },
  {
   "cell_type": "code",
   "execution_count": null,
   "metadata": {},
   "outputs": [],
   "source": [
    "import asyncio\n",
    "\n",
    "async def get_rel(doi):\n",
    "    rels = await d.get_relations_by_doi(doi)\n",
    "    return rels\n",
    "    \n",
    "async def get_relations_async():\n",
    "    loop = asyncio.get_event_loop()\n",
    "    res1 = await loop.run_in_executor(None, d.get_relations_by_doi, doi)\n",
    "    res2 = await loop.run_in_executor(None, d.get_relations_by_doi, doi)\n",
    "#     res = await asyncio.gather(get_rel('10.1016/S0305-750X(01)00109-7'), get_rel('10.1016/S0305-750X(01)00109-7'))\n",
    "    return res1, res2\n",
    "\n",
    "asyncio.run(get_relations_async())"
   ]
  },
  {
   "cell_type": "code",
   "execution_count": null,
   "metadata": {},
   "outputs": [],
   "source": []
  }
 ],
 "metadata": {
  "kernelspec": {
   "display_name": "Python 3",
   "language": "python",
   "name": "python3"
  },
  "language_info": {
   "codemirror_mode": {
    "name": "ipython",
    "version": 3
   },
   "file_extension": ".py",
   "mimetype": "text/x-python",
   "name": "python",
   "nbconvert_exporter": "python",
   "pygments_lexer": "ipython3",
   "version": "3.8.2"
  }
 },
 "nbformat": 4,
 "nbformat_minor": 4
}
