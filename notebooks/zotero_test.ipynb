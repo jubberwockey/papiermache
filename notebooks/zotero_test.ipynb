{
 "cells": [
  {
   "cell_type": "code",
   "execution_count": null,
   "metadata": {},
   "outputs": [],
   "source": [
    "%load_ext autoreload"
   ]
  },
  {
   "cell_type": "code",
   "execution_count": null,
   "metadata": {},
   "outputs": [],
   "source": [
    "%autoreload 2\n",
    "from pyzotero.zotero import Zotero\n",
    "import os\n",
    "from sqlite3 import connect\n",
    "\n",
    "import os\n",
    "import sys\n",
    "module_path = os.path.abspath(os.path.join('..'))\n",
    "if module_path not in sys.path:\n",
    "    sys.path.append(module_path)\n",
    "\n",
    "from utils.dispatcher import Dispatcher\n",
    "from utils.db import ZoteroDatabase\n",
    "from utils.scihub import SciHub"
   ]
  },
  {
   "cell_type": "code",
   "execution_count": null,
   "metadata": {},
   "outputs": [],
   "source": [
    "zot = Zotero(os.environ['ZOTERO_USER_ID'], 'user', os.environ['ZOTERO_API_KEY'], preserve_json_order=True)\n",
    "\n",
    "z = ZoteroDatabase(local=True)"
   ]
  },
  {
   "cell_type": "code",
   "execution_count": null,
   "metadata": {},
   "outputs": [],
   "source": [
    "keys = ['XXLF2GYS', 'G3GP7TW8','UYJJPTXG','4SDR5E5R','JTWSQKIS','AG9I49JZ', '7ARSI4KK']\n",
    "item_type = 'note || attachment'\n",
    "\n",
    "\n",
    "# items = z.get_items(keys=keys, item_type='')\n",
    "# z.get_notes(keys=keys)\n",
    "z.get_attachments(parent_keys=keys)\n",
    "# items\n",
    "# items = z.get_items(keys=keys, use_cache=False)\n",
    "# items"
   ]
  },
  {
   "cell_type": "markdown",
   "metadata": {},
   "source": [
    "# misc"
   ]
  },
  {
   "cell_type": "code",
   "execution_count": null,
   "metadata": {},
   "outputs": [],
   "source": [
    "z.item_types()\n",
    "z.item_type_fields('note')\n",
    "z.item_attachment_link_modes()\n",
    "# z.item_template('journalArticle')\n",
    "z.item_template('attachment', 'linked_file')"
   ]
  },
  {
   "cell_type": "markdown",
   "metadata": {},
   "source": [
    "# scihub"
   ]
  },
  {
   "cell_type": "code",
   "execution_count": null,
   "metadata": {},
   "outputs": [],
   "source": [
    "import os\n",
    "import sys\n",
    "module_path = os.path.abspath(os.path.join('..'))\n",
    "if module_path not in sys.path:\n",
    "    sys.path.append(module_path)\n",
    "\n",
    "from utils.scihub import SciHub"
   ]
  },
  {
   "cell_type": "code",
   "execution_count": null,
   "metadata": {},
   "outputs": [],
   "source": [
    "sh = SciHub(use_fallback=True)\n",
    "sh.available_base_url_list\n",
    "# result = sh.fetch('http://ieeexplore.ieee.org/xpl/login.jsp?tp=&arnumber=1648853')\n",
    "result = sh.download('10.1016/j.ssmph.2019.100387', path='/home/boris/Downloads/paper.pdf')"
   ]
  },
  {
   "cell_type": "code",
   "execution_count": null,
   "metadata": {},
   "outputs": [],
   "source": [
    "result.keys()"
   ]
  },
  {
   "cell_type": "code",
   "execution_count": null,
   "metadata": {},
   "outputs": [],
   "source": [
    "z = Zotero(os.environ['ZOTERO_USER_ID'], 'user', os.environ['ZOTERO_API_KEY'], preserve_json_order=True)"
   ]
  },
  {
   "cell_type": "code",
   "execution_count": null,
   "metadata": {},
   "outputs": [],
   "source": [
    "file_name = 'test_paper.pdf'\n",
    "\n",
    "att = z.item_template('attachment', 'linked_file')\n",
    "att['title'] = file_name\n",
    "att['path'] = 'attachments:' + file_name\n",
    "\n",
    "z.check_items([att])"
   ]
  },
  {
   "cell_type": "code",
   "execution_count": null,
   "metadata": {},
   "outputs": [],
   "source": [
    "response = z.create_items([att], parentid='AG9I49JZ')\n",
    "response"
   ]
  },
  {
   "cell_type": "code",
   "execution_count": null,
   "metadata": {},
   "outputs": [],
   "source": [
    "response['success']['0']"
   ]
  },
  {
   "cell_type": "markdown",
   "metadata": {},
   "source": [
    "# lisc - retrieve DOI relations"
   ]
  },
  {
   "cell_type": "code",
   "execution_count": null,
   "metadata": {},
   "outputs": [],
   "source": [
    "z = Zotero(os.environ['ZOTERO_USER_ID'], 'user', os.environ['ZOTERO_API_KEY'], preserve_json_order=True)\n",
    "item = z.item('2BCDWE4F')['data']\n",
    "# item2 = z.item('7ARSI4KK')\n",
    "item['relations'] = {'dc:relation': ['http://zotero.org/users/5832834/items/TZNEQBL3',\n",
    "                                     'http://zotero.org/users/5832834/items/KQNSY94T',\n",
    "                                     'http://zotero.org/users/5832834/items/PIM5RGMN',\n",
    "                                     'http://zotero.org/users/5832834/items/WDYQMILT']\n",
    "}\n",
    "\n",
    "# items = [{'key': 'AG9I49JZ',\n",
    "#           'note': None,\n",
    "#           'path': None,\n",
    "#           'itemType': 'book',\n",
    "#         'relations': {'dc:relation': ['http://zotero.org/users/5832834/items/7ARSI4KK']}}]\n",
    "items = [item]\n",
    "\n",
    "z.check_items(items)\n",
    "# z.update_items(items)"
   ]
  },
  {
   "cell_type": "code",
   "execution_count": null,
   "metadata": {},
   "outputs": [],
   "source": [
    "items = z.get_items(use_cache=True)\n",
    "[i['data'] for i in items if i['key'] == '2MZ5V5PJ']"
   ]
  },
  {
   "cell_type": "code",
   "execution_count": null,
   "metadata": {},
   "outputs": [],
   "source": [
    "items = [{'key': 'XXLF2GYS', 'itemType': 'journalArticle', 'title': 'Living well: a self-determination theory perspective on eudaimonia', 'url': 'https://doi.org/10.1007/s10902-006-9023-4', 'volume': '9', 'issue': '1', 'pages': '139-170', 'publicationTitle': 'Journal of Happiness Studies', 'ISSN': '1573-7780', 'date': '2008-01-01 2008-01-01', 'DOI': '10.1007/s10902-006-9023-4', 'accessDate': '2020-03-26 09:50:27', 'libraryCatalog': 'Springer Link', 'language': 'en', 'abstractNote': 'This article distinguishes between hedonic and eudaimonic approaches to wellness, with the former focusing on the outcome of happiness or pleasure and the latter focusing not so much on outcomes as on the process of living well. We present a model of eudaimonia that is based in self-determination theory, arguing that eudaimonic living can be characterized in terms of four motivational concepts: (1) pursuing intrinsic goals and values for their own sake, including personal growth, relationships, community, and health, rather than extrinsic goals and values, such as wealth, fame, image, and power; (2) behaving in autonomous, volitional, or consensual ways, rather than heteronomous or controlled ways; (3) being mindful and acting with a sense of awareness; and (4) behaving in ways that satisfy basic psychological needs for competence, relatedness, and autonomy. In fact, we theorize that the first three of these aspects of eudaimonic living have their positive effects of psychological and physical wellness because they facilitate satisfaction of these basic, universal psychological needs. Studies indicate that people high in eudaimonic living tend to behave in more prosocial ways, thus benefiting the collective as well as themselves, and that conditions both within the family and in society more generally contribute toward strengthening versus diminishing the degree to which people live eudaimonic lives.', 'shortTitle': 'Living well', 'journalAbbreviation': 'J Happiness Stud', 'dateAdded': '2020-03-26 09:50:27', 'dateModified': '2020-03-30 13:34:12', 'creators': [{'creatorType': 'author', 'firstName': 'Edward L.', 'lastName': 'Deci'}, {'creatorType': 'author', 'firstName': 'Richard M.', 'lastName': 'Ryan'}, {'creatorType': 'author', 'firstName': 'Veronika', 'lastName': 'Huta'}], 'tags': [{'tag': '# important'}, {'tag': '# read'}, {'tag': 'Well-being'}], 'collections': ['8LDK2WDV', 'TV839KDL'], 'relations': {'dc:relation': ['http://zotero.org/users/5832834/items/SDY9BMYE', 'http://zotero.org/users/5832834/items/LBPTVGZK', 'http://zotero.org/users/5832834/items/YZNSQQ9B', 'http://zotero.org/users/5832834/items/543MZJ8Z', 'http://zotero.org/users/5832834/items/9YQM53CA', 'http://zotero.org/users/5832834/items/AXWHXS9F', 'http://zotero.org/users/5832834/items/ZLD8PZ4X', 'http://zotero.org/users/5832834/items/XMKMG8D8', 'http://zotero.org/users/5832834/items/RX9HYJ5Z']}}]\n",
    "# for k,v in items[0].items():\n",
    "#     if v == '':\n",
    "#         del items[0][k]\n",
    "# del items[0]['abstractNote']\n",
    "# del items[0]['dateModified']\n",
    "# del items[0]['dateAdded']\n",
    "items[0]['version'] = 1996\n",
    "\n",
    "z.check_items(items)\n",
    "z.update_items(items)"
   ]
  },
  {
   "cell_type": "code",
   "execution_count": null,
   "metadata": {},
   "outputs": [],
   "source": [
    "def update_items(items):\n",
    "    # self.zot.check_items(items)\n",
    "    return self.zot.update_items(items)"
   ]
  },
  {
   "cell_type": "code",
   "execution_count": null,
   "metadata": {},
   "outputs": [],
   "source": [
    "from lisc.requester import Requester\n",
    "from lisc.urls.open_citations import OpenCitations\n",
    "\n",
    "util = 'references' # citations, references\n",
    "settings = {'format': 'json'}\n",
    "dois = ['10.1016/S0305-750X(01)00109-7']\n",
    "\n",
    "urls = OpenCitations()\n",
    "urls.build_url(util=util)\n",
    "\n",
    "url = urls.get_url(util=util, segments=dois, settings=settings)\n",
    "print(url)\n",
    "# urls.authenticate(url)\n",
    "# urls.fill_settings(format='json')\n",
    "# urls.check_url(util)\n",
    "\n",
    "req = Requester(wait_time=0.1, logging=None)\n",
    "# req.check()\n",
    "r = req.request_url(url)\n",
    "req.close()\n",
    "r.json()"
   ]
  },
  {
   "cell_type": "code",
   "execution_count": null,
   "metadata": {},
   "outputs": [],
   "source": [
    "z.get_items()"
   ]
  },
  {
   "cell_type": "code",
   "execution_count": null,
   "metadata": {},
   "outputs": [],
   "source": [
    "from lisc.requester import Requester\n",
    "from lisc.urls.open_citations import OpenCitations\n",
    "\n",
    "\n",
    "def execute_add_relations(cmd_list):\n",
    "    if len(cmd_list) == 0:\n",
    "        selected_keys = self.selected_keys\n",
    "    else:\n",
    "        selected_keys = self.select_keys(cmd_list)\n",
    "    \n",
    "    items = self.get_items(selected_keys)\n",
    "    dois = {i['key']: i['DOI'] for i in items if 'DOI' in i}\n",
    "    dois_reversed = {v: k for k, v in dois}\n",
    "    \n",
    "    for key, doi in dois:\n",
    "        relations_dict = get_relations_by_doi(doi)\n",
    "        related = relations_dict['citing'] + relations_dict['cited_by']\n",
    "        dois[key] = [dois_reversed[r] for r in related if r in dois_reversed]\n",
    "        \n",
    "        \n",
    "    \n",
    "    \n",
    "#     for i in items:\n",
    "#         if i['key'] in relations_data:\n",
    "#             i['relations'].update(relations_data[i['key']])\n",
    "\n",
    "def get_relations_by_doi(doi):\n",
    "    oc = OpenCitations()\n",
    "    req = Requester(wait_time=0.1, logging=None)\n",
    "    relations_dict = {}\n",
    "    for util in ['references', 'citations']:\n",
    "        oc.build_url(util=util)\n",
    "        url = oc.get_url(util=util, segments=doi, settings={'format': 'json'})\n",
    "        result = req.request_url(url).json()\n",
    "        if util == 'references':\n",
    "            relations_dict['citing'] = [r['cited'] for r in result]\n",
    "        else:\n",
    "            relations_dict['cited_by'] = [r['citing'] for r in result]\n",
    "    req.close()\n",
    "\n",
    "    return result # relations_dict\n",
    "\n",
    "# def update_relations(keys, local_read_cursor=None):\n",
    "#     if not isinstance(keys, list):\n",
    "#         keys = [keys]\n",
    "    \n",
    "#     cursor = read_cursor or \n",
    "    \n",
    "    \n",
    "# update_relations()\n",
    "\n",
    "get_relations_by_doi(['10.1093/oxrep/grx056'])\n",
    "\n"
   ]
  },
  {
   "cell_type": "code",
   "execution_count": null,
   "metadata": {},
   "outputs": [],
   "source": [
    "d = Dispatcher(session=None)\n",
    "d.get_relations_by_doi('10.1093/oxrep/grx056')"
   ]
  },
  {
   "cell_type": "code",
   "execution_count": null,
   "metadata": {},
   "outputs": [],
   "source": [
    "selected_keys = 'XXLF2GYS'\n",
    "\n",
    "items = z.get_items(selected_keys)\n",
    "dois = {i['key']: i['DOI'].lower() for i in items if 'DOI' in i}\n",
    "dois_reversed = {doi: key for key, doi in dois.items()}\n",
    "\n",
    "for key, doi in dois.items():\n",
    "    relations_dict = d.get_relations_by_doi(doi)\n",
    "    related = relations_dict['citing'] + relations_dict['cited_by']\n",
    "#     print(related)\n",
    "    dois[key] = [dois_reversed[doi] for doi in related if doi in dois_reversed]\n",
    "print(dois)\n",
    "# return dois"
   ]
  },
  {
   "cell_type": "code",
   "execution_count": null,
   "metadata": {},
   "outputs": [],
   "source": [
    "# '10.1207/S15327965PLI1104_01'\n",
    "[i for i in related if i.startswith('10.1207/S15327965PLI1104_01'.lower())]"
   ]
  },
  {
   "cell_type": "code",
   "execution_count": null,
   "metadata": {},
   "outputs": [],
   "source": [
    "dois_reversed"
   ]
  },
  {
   "cell_type": "code",
   "execution_count": null,
   "metadata": {},
   "outputs": [],
   "source": []
  }
 ],
 "metadata": {
  "kernelspec": {
   "display_name": "Python 3",
   "language": "python",
   "name": "python3"
  },
  "language_info": {
   "codemirror_mode": {
    "name": "ipython",
    "version": 3
   },
   "file_extension": ".py",
   "mimetype": "text/x-python",
   "name": "python",
   "nbconvert_exporter": "python",
   "pygments_lexer": "ipython3",
   "version": "3.8.2"
  }
 },
 "nbformat": 4,
 "nbformat_minor": 4
}
