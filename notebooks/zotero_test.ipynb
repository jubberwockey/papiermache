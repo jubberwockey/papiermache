{
 "cells": [
  {
   "cell_type": "code",
   "execution_count": null,
   "metadata": {},
   "outputs": [],
   "source": [
    "%load_ext autoreload"
   ]
  },
  {
   "cell_type": "code",
   "execution_count": null,
   "metadata": {},
   "outputs": [],
   "source": [
    "%autoreload 2\n",
    "from pyzotero.zotero import Zotero\n",
    "import os\n",
    "from sqlite3 import connect\n",
    "\n",
    "import os\n",
    "import sys\n",
    "module_path = os.path.abspath(os.path.join('..'))\n",
    "if module_path not in sys.path:\n",
    "    sys.path.append(module_path)\n",
    "\n",
    "from utils.dispatcher import Dispatcher\n",
    "from utils.db import ZoteroDatabase\n",
    "from utils.scihub import SciHub"
   ]
  },
  {
   "cell_type": "code",
   "execution_count": null,
   "metadata": {},
   "outputs": [],
   "source": [
    "zot = Zotero(os.environ['ZOTERO_USER_ID'], 'user', os.environ['ZOTERO_API_KEY'], preserve_json_order=True)\n",
    "zot.item_template('attachment', 'linked_file')"
   ]
  },
  {
   "cell_type": "code",
   "execution_count": null,
   "metadata": {},
   "outputs": [],
   "source": [
    "keys = ['G3GP7TW8','UYJJPTXG','4SDR5E5R','JTWSQKIS','AG9I49JZ', '7ARSI4KK']\n",
    "item_type = 'journalArticle || attachment'\n",
    "\n",
    "z = ZoteroDatabase(local=True)\n",
    "items = z.get_items_data_local(keys=keys)\n",
    "z.get_items(keys=keys)\n",
    "# z.get_items_collections_local()"
   ]
  },
  {
   "cell_type": "code",
   "execution_count": null,
   "metadata": {},
   "outputs": [],
   "source": [
    "conn = connect(os.environ['ZOTERO_DB_PATH'])\n",
    "c = conn.cursor()\n",
    "\n",
    "# res = get_items_creators(None, c, item_type='')\n",
    "\n",
    "\n",
    "\n",
    "c.close()\n",
    "\n",
    "res"
   ]
  },
  {
   "cell_type": "markdown",
   "metadata": {},
   "source": [
    "# misc"
   ]
  },
  {
   "cell_type": "code",
   "execution_count": null,
   "metadata": {},
   "outputs": [],
   "source": [
    "z = Zotero(os.environ['ZOTERO_USER_ID'], 'user', os.environ['ZOTERO_API_KEY'], preserve_json_order=True)\n",
    "z.item('UYJJPTXG')['data'];"
   ]
  },
  {
   "cell_type": "code",
   "execution_count": null,
   "metadata": {},
   "outputs": [],
   "source": [
    "z.top()[0]"
   ]
  },
  {
   "cell_type": "code",
   "execution_count": null,
   "metadata": {},
   "outputs": [],
   "source": [
    "z.item_attachment_link_modes()\n"
   ]
  },
  {
   "cell_type": "code",
   "execution_count": null,
   "metadata": {},
   "outputs": [],
   "source": [
    "z.item_types()\n",
    "z.item_type_fields('note')\n",
    "z.item_attachment_link_modes()\n",
    "# z.item_template('journalArticle')\n",
    "z.item_template('attachment', 'linked_file')"
   ]
  },
  {
   "cell_type": "code",
   "execution_count": null,
   "metadata": {},
   "outputs": [],
   "source": [
    "conn = connect(os.environ['ZOTERO_DB_PATH'])\n",
    "c = conn.cursor()\n",
    "\n",
    "data = get_item_data('UYJJPTXG', local_cursor=c)\n",
    "# res = get_creators('UYJJPTXG', local_cursor=c)\n",
    "# res = get_tags('UYJJPTXG', local_cursor=c)\n",
    "# data = get_collections('UYJJPTXG', local_cursor=c)\n",
    "# data = get_relations('UYJJPTXG', local_cursor=c)\n",
    "# items = get_autocompletes(c)\n",
    "items = get_attachments('UYJJPTXG', c)\n",
    "\n",
    "c.close()\n"
   ]
  },
  {
   "cell_type": "code",
   "execution_count": null,
   "metadata": {},
   "outputs": [],
   "source": [
    "items"
   ]
  },
  {
   "cell_type": "markdown",
   "metadata": {},
   "source": [
    "# scihub"
   ]
  },
  {
   "cell_type": "code",
   "execution_count": null,
   "metadata": {},
   "outputs": [],
   "source": [
    "import os\n",
    "import sys\n",
    "module_path = os.path.abspath(os.path.join('..'))\n",
    "if module_path not in sys.path:\n",
    "    sys.path.append(module_path)\n",
    "\n",
    "from utils.scihub import SciHub"
   ]
  },
  {
   "cell_type": "code",
   "execution_count": null,
   "metadata": {},
   "outputs": [],
   "source": [
    "sh = SciHub(use_fallback=True)\n",
    "sh.available_base_url_list\n",
    "# result = sh.fetch('http://ieeexplore.ieee.org/xpl/login.jsp?tp=&arnumber=1648853')\n",
    "result = sh.download('10.1016/j.ssmph.2019.100387', path='/home/boris/Downloads/paper.pdf')"
   ]
  },
  {
   "cell_type": "code",
   "execution_count": null,
   "metadata": {},
   "outputs": [],
   "source": [
    "result.keys()"
   ]
  },
  {
   "cell_type": "code",
   "execution_count": null,
   "metadata": {},
   "outputs": [],
   "source": [
    "z = Zotero(os.environ['ZOTERO_USER_ID'], 'user', os.environ['ZOTERO_API_KEY'], preserve_json_order=True)"
   ]
  },
  {
   "cell_type": "code",
   "execution_count": null,
   "metadata": {},
   "outputs": [],
   "source": [
    "file_name = 'test_paper.pdf'\n",
    "\n",
    "att = z.item_template('attachment', 'linked_file')\n",
    "att['title'] = file_name\n",
    "att['path'] = 'attachments:' + file_name\n",
    "\n",
    "z.check_items([att])"
   ]
  },
  {
   "cell_type": "code",
   "execution_count": null,
   "metadata": {},
   "outputs": [],
   "source": [
    "response = z.create_items([att], parentid='AG9I49JZ')\n",
    "response"
   ]
  },
  {
   "cell_type": "code",
   "execution_count": null,
   "metadata": {},
   "outputs": [],
   "source": [
    "response['success']['0']"
   ]
  },
  {
   "cell_type": "markdown",
   "metadata": {},
   "source": [
    "# lisc - retrieve DOI relations"
   ]
  },
  {
   "cell_type": "code",
   "execution_count": null,
   "metadata": {},
   "outputs": [],
   "source": [
    "z = Zotero(os.environ['ZOTERO_USER_ID'], 'user', os.environ['ZOTERO_API_KEY'], preserve_json_order=True)\n",
    "item = z.item('AG9I49JZ')\n",
    "item2 = z.item('7ARSI4KK')\n",
    "item['data']['relations'] = {'dc:relation': ['http://zotero.org/users/5832834/items/7ARSI4KK']}\n",
    "z.check_items([item['data']])\n",
    "z.update_item(item['data'])"
   ]
  },
  {
   "cell_type": "code",
   "execution_count": null,
   "metadata": {},
   "outputs": [],
   "source": [
    "len(z.items(format='keys', limit=-1))"
   ]
  },
  {
   "cell_type": "code",
   "execution_count": null,
   "metadata": {},
   "outputs": [],
   "source": [
    "def get_items(keys=[], item_type='', tags='', limit=-1, local_cursor=None):\n",
    "    if not isinstance(keys, list):\n",
    "        keys = [keys]\n",
    "    keys_str = ','.join(keys)\n",
    "    \n",
    "#     cursor = local_cursor or self.cursor\n",
    "\n",
    "    if cursor is None:\n",
    "        self.zot.items(itemKey=keys_str, itemType=item_type, tag=tags, limit=limit)\n",
    "    else:\n",
    "        sql = \"\"\"SELECT\n",
    "            i.key,\n",
    "            --i.version,\n",
    "            MAX(it.typeName) AS itemType,\n",
    "            MAX(CASE WHEN fieldName = 'title' THEN value END) AS title,\n",
    "            MAX(CASE WHEN fieldName = 'url' THEN value END) AS url,\n",
    "            MAX(CASE WHEN fieldName = 'volume' THEN value END) AS volume,\n",
    "            MAX(CASE WHEN fieldName = 'issue' THEN value END) AS issue,\n",
    "            MAX(CASE WHEN fieldName = 'pages' THEN value END) AS pages,\n",
    "            MAX(CASE WHEN fieldName = 'publicationTitle' THEN value END) AS publicationTitle,\n",
    "            MAX(CASE WHEN fieldName = 'ISSN' THEN value END) AS ISSN,\n",
    "            MAX(CASE WHEN fieldName = 'date' THEN value END) AS date,\n",
    "            MAX(CASE WHEN fieldName = 'DOI' THEN value END) AS DOI,\n",
    "            MAX(CASE WHEN fieldName = 'accessDate' THEN value END) AS accessDate,\n",
    "            MAX(CASE WHEN fieldName = 'libraryCatalog' THEN value END) AS libraryCatalog,\n",
    "            MAX(CASE WHEN fieldName = 'language' THEN value END) AS language,\n",
    "            MAX(CASE WHEN fieldName = 'abstractNote' THEN value END) AS abstractNote,\n",
    "            MAX(CASE WHEN fieldName = 'shortTitle' THEN value END) AS shortTitle,\n",
    "            MAX(CASE WHEN fieldName = 'place' THEN value END) AS place,\n",
    "            MAX(CASE WHEN fieldName = 'publisher' THEN value END) AS publisher,\n",
    "            MAX(CASE WHEN fieldName = 'ISBN' THEN value END) AS ISBN,\n",
    "            MAX(CASE WHEN fieldName = 'callNumber' THEN value END) AS callNumber,\n",
    "            MAX(CASE WHEN fieldName = 'numPages' THEN value END) AS numPages,\n",
    "            MAX(CASE WHEN fieldName = 'extra' THEN value END) AS extra,\n",
    "            MAX(CASE WHEN fieldName = 'bookTitle' THEN value END) AS bookTitle,\n",
    "            MAX(CASE WHEN fieldName = 'journalAbbreviation' THEN value END) AS journalAbbreviation,\n",
    "            MAX(CASE WHEN fieldName = 'edition' THEN value END) AS edition,\n",
    "            MAX(CASE WHEN fieldName = 'series' THEN value END) AS series,\n",
    "            MAX(CASE WHEN fieldName = 'seriesNumber' THEN value END) AS seriesNumber,\n",
    "            MAX(CASE WHEN fieldName = 'institution' THEN value END) AS institution,\n",
    "            MAX(CASE WHEN fieldName = 'reportNumber' THEN value END) AS reportNumber,\n",
    "            MAX(CASE WHEN fieldName = 'conferenceName' THEN value END) AS conferenceName,\n",
    "            MAX(CASE WHEN fieldName = 'proceedingsTitle' THEN value END) AS proceedingsTitle,\n",
    "            MAX(CASE WHEN fieldName = 'reportType' THEN value END) AS reportType,\n",
    "            MAX(CASE WHEN fieldName = 'seriesTitle' THEN value END) AS seriesTitle,\n",
    "            MAX(CASE WHEN fieldName = 'thesisType' THEN value END) AS thesisType,\n",
    "            MAX(CASE WHEN fieldName = 'university' THEN value END) AS university,\n",
    "            MAX(CASE WHEN fieldName = 'archive' THEN value END) AS archive,\n",
    "            MAX(CASE WHEN fieldName = 'rights' THEN value END) AS rights,\n",
    "            MAX(CASE WHEN fieldName = 'websiteTitle' THEN value END) AS websiteTitle,\n",
    "            MAX(CASE WHEN fieldName = 'encyclopediaTitle' THEN value END) AS encyclopediaTitle,\n",
    "            MAX(CASE WHEN fieldName = 'websiteType' THEN value END) AS websiteType,\n",
    "            MAX(CASE WHEN fieldName = 'archiveLocation' THEN value END) AS archiveLocation,\n",
    "            MAX(CASE WHEN fieldName = 'blogTitle' THEN value END) AS blogTitle,\n",
    "            MAX(CASE WHEN fieldName = 'manuscriptType' THEN value END) AS manuscriptType,\n",
    "            MAX(dateAdded) AS dateAdded,\n",
    "            MAX(dateModified) AS dateModified\n",
    "        FROM items i\n",
    "        LEFT JOIN itemData id ON i.itemID = id.itemID\n",
    "        LEFT JOIN itemTypes it ON i.itemTypeID = it.itemTypeID\n",
    "\n",
    "        LEFT JOIN fields f ON id.fieldID = f.fieldID\n",
    "        LEFT JOIN itemDataValues idv ON id.valueID = idv.valueID\n",
    "        WHERE TRUE\"\"\"\n",
    "    sql_keys = \"\\nAND i.key IN (?)\"\n",
    "    if item_type[0] == '-':\n",
    "        negate = 'NOT '\n",
    "        item_type = item_type[1:]\n",
    "    else:\n",
    "        negate = ''\n",
    "    types = map(lambda s: '\"{}\"'.format(s), item_type.split(' || '))\n",
    "    sql_type = '\\nAND ' + negate + 'IN (' + ','.join(types) + ')'\n",
    "    sql_group = \"\\nGROUP BY i.key\"\n",
    "    sql_limit = \"\\nLIMIT \" + str(limit)\n",
    "    \n",
    "    if tags != '':\n",
    "        warnings.warn(\"tag filter not implemented\")\n",
    "        \n",
    "    sql += sql_keys if len(keys) > 0\n",
    "    sql += sql_type if len(item_type) > 0\n",
    "    sql += sql_group\n",
    "    sql += sql_limit if limit > 0\n",
    "    sql += \";\"\n",
    "    \n",
    "    local_cursor.execute(sql, (key,))\n",
    "    columns = [c[0] for c in local_cursor.description]\n",
    "    data = local_cursor.fetchall()\n",
    "    \n",
    "    full_item_dict = [dict(zip(columns, item)) for item in data]\n",
    "\n",
    "    items_list = map(lambda: i: {k:v for k, v in i.items() if v is not None}, full_item_dict)\n",
    "    return items_list\n",
    "\n",
    "\n",
    "def execute_add_relations():\n",
    "    pass\n",
    "\n",
    "def update_relations(keys, local_read_cursor=None):\n",
    "    if not isinstance(keys, list):\n",
    "        keys = [keys]\n",
    "    \n",
    "    cursor = read_cursor or \n",
    "    \n",
    "    \n",
    "update_relations()"
   ]
  },
  {
   "cell_type": "code",
   "execution_count": null,
   "metadata": {},
   "outputs": [],
   "source": [
    "from lisc.requester import Requester\n",
    "from lisc.urls.open_citations import OpenCitations\n",
    "\n",
    "util = 'citations' # citations, references\n",
    "settings = {'format': 'json'}\n",
    "dois = ['10.1016/S0305-750X(01)00109-7']\n",
    "\n",
    "urls = OpenCitations()\n",
    "urls.build_url(util=util)\n",
    "\n",
    "url = urls.get_url(util=util, segments=dois, settings=settings)\n",
    "# urls.authenticate(url)\n",
    "# urls.fill_settings(format='json')\n",
    "# urls.check_url(util)\n",
    "\n",
    "req = Requester(wait_time=0.1, logging=None)\n",
    "# req.check()\n",
    "r = req.request_url(url)\n",
    "req.close()\n",
    "\n",
    "r.json()"
   ]
  }
 ],
 "metadata": {
  "kernelspec": {
   "display_name": "Python 3",
   "language": "python",
   "name": "python3"
  },
  "language_info": {
   "codemirror_mode": {
    "name": "ipython",
    "version": 3
   },
   "file_extension": ".py",
   "mimetype": "text/x-python",
   "name": "python",
   "nbconvert_exporter": "python",
   "pygments_lexer": "ipython3",
   "version": "3.8.2"
  }
 },
 "nbformat": 4,
 "nbformat_minor": 4
}
